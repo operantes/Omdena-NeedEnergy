{
 "cells": [
  {
   "cell_type": "markdown",
   "metadata": {},
   "source": [
    "# [Omdena-NeedEnergy \"Increasing Clean Energy Access in Africa\" project](https://omdena.com/projects/clean-energy-ai/)\n",
    "#### A.Montesino (Feb 10th, 2021)\n",
    "### Task X - XYZ\n",
    "\n",
    "References:\n",
    "* [Document #1](#http://www.loremipzum.com/en/)\n",
    "* [Document #2](#http://www.loremipzum.com/es/)\n",
    "* other...\n"
   ]
  },
  {
   "cell_type": "code",
   "execution_count": null,
   "metadata": {},
   "outputs": [],
   "source": []
  },
  {
   "cell_type": "code",
   "execution_count": null,
   "metadata": {},
   "outputs": [],
   "source": []
  },
  {
   "cell_type": "code",
   "execution_count": null,
   "metadata": {},
   "outputs": [],
   "source": []
  }
 ],
 "metadata": {
  "kernelspec": {
   "display_name": "Python 3",
   "language": "python",
   "name": "python3"
  },
  "language_info": {
   "codemirror_mode": {
    "name": "ipython",
    "version": 3
   },
   "file_extension": ".py",
   "mimetype": "text/x-python",
   "name": "python",
   "nbconvert_exporter": "python",
   "pygments_lexer": "ipython3",
   "version": "3.7.6"
  }
 },
 "nbformat": 4,
 "nbformat_minor": 4
}
