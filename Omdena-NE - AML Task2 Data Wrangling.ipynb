{
 "cells": [
  {
   "cell_type": "markdown",
   "metadata": {},
   "source": [
    "# [Omdena-NeedEnergy \"Increasing Clean Energy Access in Africa\" project](https://omdena.com/projects/clean-energy-ai/)\n",
    "#### A.Montesino (Feb 10th, 2021)\n",
    "### Task X - XYZ\n",
    "\n",
    "References:\n",
    "* [Document #1](#http://www.loremipzum.com/en/)\n",
    "* [Document #2](#http://www.loremipzum.com/es/)\n",
    "* other...\n"
   ]
  },
  {
   "cell_type": "code",
   "execution_count": 30,
   "metadata": {},
   "outputs": [
    {
     "name": "stdout",
     "output_type": "stream",
     "text": [
      "NumPy version: 1.19.1\n"
     ]
    }
   ],
   "source": [
    "import numpy as np\n",
    "from numpy import *\n",
    "print( \"NumPy version:\", np.__version__ )\n",
    "# pip show numpy"
   ]
  },
  {
   "cell_type": "code",
   "execution_count": 31,
   "metadata": {},
   "outputs": [
    {
     "name": "stdout",
     "output_type": "stream",
     "text": [
      "Pandas version: 1.1.0\n"
     ]
    }
   ],
   "source": [
    "import pandas as pd\n",
    "from pandas import *\n",
    "print( \"Pandas version:\", pandas.__version__ )"
   ]
  },
  {
   "cell_type": "code",
   "execution_count": 26,
   "metadata": {},
   "outputs": [
    {
     "name": "stdout",
     "output_type": "stream",
     "text": [
      "-=-=-=-=-=-=-=-=-=-=-=-=-=-=-=-=-=-=-=-=-=-=-=-=-=-=-=-=-=-=-=-=-=-=-=-=-=-=\n",
      "Numexpr version:   2.7.1\n",
      "NumPy version:     1.19.1\n",
      "Python version:    3.7.6 (default, Jan  8 2020, 20:23:39) [MSC v.1916 64 bit (AMD64)]\n",
      "Platform:          win32-AMD64-10.0.18362\n",
      "CPU vendor:        GenuineIntel\n",
      "CPU model:         Intel(R) Core(TM) i7-8550U CPU @ 1.80GHz\n",
      "CPU clock speed:   1992 MHz\n",
      "VML available?     True\n",
      "VML/MKL version:   Intel(R) Math Kernel Library Version 2020.0.1 Product Build 20200208 for Intel(R) 64 architecture applications\n",
      "Number of threads used by default: 8 (out of 8 detected cores)\n",
      "Maximum number of threads: 64\n",
      "-=-=-=-=-=-=-=-=-=-=-=-=-=-=-=-=-=-=-=-=-=-=-=-=-=-=-=-=-=-=-=-=-=-=-=-=-=-=\n"
     ]
    }
   ],
   "source": [
    "# pip list\n",
    "import numexpr\n",
    "numexpr.print_versions()"
   ]
  },
  {
   "cell_type": "code",
   "execution_count": 32,
   "metadata": {},
   "outputs": [],
   "source": [
    "import seaborn as sns\n",
    "import matplotlib.pyplot as plt\n",
    "\n",
    "# Comment this if the data visualisations doesn't work on your side\n",
    "%matplotlib inline\n",
    "\n",
    "plt.style.use('bmh')"
   ]
  },
  {
   "cell_type": "code",
   "execution_count": null,
   "metadata": {},
   "outputs": [],
   "source": [
    "import os\n",
    "\n",
    "path =\"C:/workspace/python\"\n",
    "#we shall store all the file names in this list\n",
    "filelist = []\n",
    "\n",
    "for root, dirs, files in os.walk(path):\n",
    "\tfor file in files:\n",
    "        #append the file name to the list\n",
    "\t\tfilelist.append(os.path.join(root,file))\n",
    "\n",
    "#print all the file names\n",
    "for name in filelist:\n",
    "    print(name)"
   ]
  },
  {
   "cell_type": "code",
   "execution_count": 43,
   "metadata": {},
   "outputs": [
    {
     "name": "stdout",
     "output_type": "stream",
     "text": [
      "['Electricity usage - 2020-01-01 - 2021-02-05 - 5 minutes.xlsx', 'Electricity usage - 2020-01-01 - 2021-02-09 - daily.xlsx', 'Electricity usage - 2020-01-01 - 2021-02-09 - hourly.xlsx']\n"
     ]
    }
   ],
   "source": [
    "DataPath='C:\\\\Users\\\\alvar\\\\OneDrive\\\\Personal\\\\Repositorio\\\\Data Analytics\\\\Omdena\\\\Data'\n",
    "DataPath='C:/Users/alvar/OneDrive/Personal/Repositorio/Data Analytics/Omdena/Data/NeedEnergy Meter Data/data for Mini Substation'\n",
    "DataFile='Electricity usage - 2020-01-01 - 2021-02-05 - 5 minutes.xlsx'\n",
    "from os import listdir\n",
    "from os.path import isfile, join\n",
    "\n",
    "onlyfiles = [f for f in listdir( DataPath ) if isfile( join( DataPath, f) ) ]\n",
    "print( onlyfiles )\n"
   ]
  },
  {
   "cell_type": "code",
   "execution_count": 1,
   "metadata": {},
   "outputs": [],
   "source": [
    "import os\n",
    "\n",
    "path ='C:/Users/alvar/OneDrive/Personal/Repositorio/Data Analytics/Omdena/Data/NeedEnergy Meter Data/data for Mini Substation'\n",
    "path ='C:/Users/alvar/OneDrive/Personal/Repositorio/Data Analytics/Omdena/Data'\n",
    "\n",
    "#we shall store all the file names in this list\n",
    "filelist = []\n",
    "\n",
    "for root, dirs, files in os.walk(path):\n",
    "     for file in files:\n",
    "        if( file.endswith( \".xlsx\" ) ):\n",
    "        #append the file name to the list\n",
    "            filelist.append( os.path.join( root,file ) )\n",
    "\n"
   ]
  },
  {
   "cell_type": "markdown",
   "metadata": {},
   "source": [
    "# Data Quality Check"
   ]
  },
  {
   "cell_type": "code",
   "execution_count": null,
   "metadata": {},
   "outputs": [],
   "source": []
  },
  {
   "cell_type": "markdown",
   "metadata": {},
   "source": [
    "# Quantitative tests"
   ]
  },
  {
   "cell_type": "code",
   "execution_count": null,
   "metadata": {},
   "outputs": [],
   "source": []
  },
  {
   "cell_type": "markdown",
   "metadata": {},
   "source": [
    "# Statistical test"
   ]
  },
  {
   "cell_type": "code",
   "execution_count": null,
   "metadata": {},
   "outputs": [],
   "source": []
  },
  {
   "cell_type": "markdown",
   "metadata": {},
   "source": [
    "# Visualization"
   ]
  },
  {
   "cell_type": "code",
   "execution_count": null,
   "metadata": {},
   "outputs": [],
   "source": []
  },
  {
   "cell_type": "code",
   "execution_count": 71,
   "metadata": {},
   "outputs": [
    {
     "name": "stdout",
     "output_type": "stream",
     "text": [
      "C:/Users/alvar/OneDrive/Personal/Repositorio/Data Analytics/Omdena/Data\\NeedEnergy Meter Data\\data for Mini Substation\\Electricity usage - 2020-01-01 - 2021-02-05 - 5 minutes.xlsx\n",
      "<class 'pandas.core.frame.DataFrame'>\n",
      "RangeIndex: 5044 entries, 0 to 5043\n",
      "Data columns (total 3 columns):\n",
      " #   Column            Non-Null Count  Dtype  \n",
      "---  ------            --------------  -----  \n",
      " 0   Date              5044 non-null   object \n",
      " 1   Consumption [kW]  5044 non-null   float64\n",
      " 2   Always on [kW]    5044 non-null   float64\n",
      "dtypes: float64(2), object(1)\n",
      "memory usage: 118.3+ KB\n",
      "Variable types \n"
     ]
    },
    {
     "ename": "NameError",
     "evalue": "name 'df_num' is not defined",
     "output_type": "error",
     "traceback": [
      "\u001b[1;31m---------------------------------------------------------------------------\u001b[0m",
      "\u001b[1;31mNameError\u001b[0m                                 Traceback (most recent call last)",
      "\u001b[1;32m<ipython-input-71-5b5d77e83dfc>\u001b[0m in \u001b[0;36m<module>\u001b[1;34m\u001b[0m\n\u001b[0;32m     16\u001b[0m     \u001b[0mdf_time\u001b[0m \u001b[1;33m=\u001b[0m \u001b[0mdf\u001b[0m\u001b[1;33m.\u001b[0m\u001b[0mselect_dtypes\u001b[0m\u001b[1;33m(\u001b[0m \u001b[0minclude\u001b[0m \u001b[1;33m=\u001b[0m  \u001b[1;33m[\u001b[0m \u001b[1;34m'datetime'\u001b[0m\u001b[1;33m,\u001b[0m \u001b[1;34m'datetime64'\u001b[0m \u001b[1;33m]\u001b[0m \u001b[1;33m)\u001b[0m\u001b[1;33m\u001b[0m\u001b[1;33m\u001b[0m\u001b[0m\n\u001b[0;32m     17\u001b[0m     \u001b[0mdf_categorical\u001b[0m \u001b[1;33m=\u001b[0m \u001b[0mdf\u001b[0m\u001b[1;33m.\u001b[0m\u001b[0mselect_dtypes\u001b[0m\u001b[1;33m(\u001b[0m \u001b[0minclude\u001b[0m \u001b[1;33m=\u001b[0m \u001b[1;33m[\u001b[0m\u001b[1;34m'object'\u001b[0m \u001b[1;33m]\u001b[0m \u001b[1;33m)\u001b[0m\u001b[1;33m\u001b[0m\u001b[1;33m\u001b[0m\u001b[0m\n\u001b[1;32m---> 18\u001b[1;33m     \u001b[0mdf_num\u001b[0m\u001b[1;33m.\u001b[0m\u001b[0mhead\u001b[0m\u001b[1;33m(\u001b[0m\u001b[1;33m)\u001b[0m\u001b[1;33m\u001b[0m\u001b[1;33m\u001b[0m\u001b[0m\n\u001b[0m\u001b[0;32m     19\u001b[0m \u001b[1;33m\u001b[0m\u001b[0m\n\u001b[0;32m     20\u001b[0m     \u001b[1;31m# df.count() does not include NaN values\u001b[0m\u001b[1;33m\u001b[0m\u001b[1;33m\u001b[0m\u001b[1;33m\u001b[0m\u001b[0m\n",
      "\u001b[1;31mNameError\u001b[0m: name 'df_num' is not defined"
     ]
    }
   ],
   "source": [
    "Max_PRCT_NaNs = 0.3\n",
    "\n",
    "#print all the file names\n",
    "for filename in filelist:\n",
    "    print( filename )\n",
    "    df = pd.read_excel( filename )\n",
    "    df.head( )\n",
    "    df.info( )\n",
    "    print( \"Variable types \" )    \n",
    "    list( set( df.dtypes.tolist( ) ) )\n",
    "\n",
    "    # pandas.DataFrame.dtypes    \n",
    "    df_numeric = df.select_dtypes( include = [ 'int', 'int64', 'float', 'float64', 'complex' ] )\n",
    "    df_boolean = df.select_dtypes( include = [ 'bool' ] )\n",
    "    # df_bynary = df.select_dtypes( include = [ 'bytes', 'bytearray', 'memoryview' ] )\n",
    "    df_time = df.select_dtypes( include =  [ 'datetime', 'datetime64' ] )\n",
    "    df_categorical = df.select_dtypes( include = ['object' ] )\n",
    "    \n",
    "    for t in t\n",
    "    df_num.head()\n",
    "\n",
    "    # df.count() does not include NaN values\n",
    "    df_aux = df[ [column for column in df if df[column].count() / len(df) >= Max_PRCT_NaNs]]\n",
    "    df_aux.show()\n",
    "#   del df_aux[ 'Id' ]\n",
    "    print(\"List of dropped columns:\", end=\" \")\n",
    "    for column in df.columns:\n",
    "        if column not in df_aux.columns:\n",
    "            print(c, end=\", \")\n",
    "        print('\\n')\n",
    "        df = df_aux\n",
    "        \n"
   ]
  },
  {
   "cell_type": "code",
   "execution_count": null,
   "metadata": {},
   "outputs": [],
   "source": []
  },
  {
   "cell_type": "code",
   "execution_count": 49,
   "metadata": {},
   "outputs": [],
   "source": [
    "\n",
    "\n"
   ]
  },
  {
   "cell_type": "code",
   "execution_count": null,
   "metadata": {},
   "outputs": [],
   "source": []
  }
 ],
 "metadata": {
  "kernelspec": {
   "display_name": "Python 3",
   "language": "python",
   "name": "python3"
  },
  "language_info": {
   "codemirror_mode": {
    "name": "ipython",
    "version": 3
   },
   "file_extension": ".py",
   "mimetype": "text/x-python",
   "name": "python",
   "nbconvert_exporter": "python",
   "pygments_lexer": "ipython3",
   "version": "3.7.6"
  }
 },
 "nbformat": 4,
 "nbformat_minor": 4
}
