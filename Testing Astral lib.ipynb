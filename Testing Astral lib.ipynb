{
 "cells": [
  {
   "cell_type": "code",
   "execution_count": 1,
   "metadata": {},
   "outputs": [
    {
     "name": "stdout",
     "output_type": "stream",
     "text": [
      "Collecting astral\n",
      "  Downloading astral-2.2-py2.py3-none-any.whl (30 kB)\n",
      "Requirement already satisfied: pytz in c:\\users\\alvar\\anaconda3\\lib\\site-packages (from astral) (2020.1)\n",
      "Installing collected packages: astral\n",
      "Successfully installed astral-2.2\n"
     ]
    }
   ],
   "source": [
    "! pip install astral"
   ]
  },
  {
   "cell_type": "code",
   "execution_count": null,
   "metadata": {},
   "outputs": [],
   "source": []
  }
 ],
 "metadata": {
  "kernelspec": {
   "display_name": "Python 3",
   "language": "python",
   "name": "python3"
  },
  "language_info": {
   "codemirror_mode": {
    "name": "ipython",
    "version": 3
   },
   "file_extension": ".py",
   "mimetype": "text/x-python",
   "name": "python",
   "nbconvert_exporter": "python",
   "pygments_lexer": "ipython3",
   "version": "3.7.6"
  }
 },
 "nbformat": 4,
 "nbformat_minor": 4
}
